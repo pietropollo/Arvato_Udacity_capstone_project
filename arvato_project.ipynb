{
 "cells": [
  {
   "cell_type": "markdown",
   "metadata": {},
   "source": [
    "# Capstone Project: Create a Customer Segmentation Report for Arvato Financial Services\n",
    "\n",
    "In this project, you will analyze demographics data for customers of a mail-order sales company in Germany, comparing it against demographics information for the general population. You'll use unsupervised learning techniques to perform customer segmentation, identifying the parts of the population that best describe the core customer base of the company. Then, you'll apply what you've learned on a third dataset with demographics information for targets of a marketing campaign for the company, and use a model to predict which individuals are most likely to convert into becoming customers for the company. The data that you will use has been provided by our partners at Bertelsmann Arvato Analytics, and represents a real-life data science task.\n",
    "\n",
    "If you completed the first term of this program, you will be familiar with the first part of this project, from the unsupervised learning project. The versions of those two datasets used in this project will include many more features and has not been pre-cleaned. You are also free to choose whatever approach you'd like to analyzing the data rather than follow pre-determined steps. In your work on this project, make sure that you carefully document your steps and decisions, since your main deliverable for this project will be a blog post reporting your findings."
   ]
  },
  {
   "cell_type": "code",
   "execution_count": 1,
   "metadata": {},
   "outputs": [],
   "source": [
    "import re\n",
    "import numpy as np\n",
    "import pandas as pd\n",
    "import matplotlib.pyplot as plt\n",
    "import seaborn as sns\n",
    "\n",
    "from sklearn.impute import SimpleImputer\n",
    "from sklearn.preprocessing import StandardScaler\n",
    "from sklearn.decomposition import PCA\n",
    "from sklearn.cluster import KMeans\n",
    "from sklearn.linear_model import LogisticRegression\n",
    "from sklearn.ensemble import GradientBoostingClassifier, RandomForestClassifier\n",
    "from sklearn.model_selection import GridSearchCV\n",
    "\n",
    "%matplotlib inline"
   ]
  },
  {
   "cell_type": "markdown",
   "metadata": {},
   "source": [
    "# Part 0: Get to Know the Data\n",
    "\n",
    "There are four data files associated with this project:\n",
    "\n",
    "- `Udacity_AZDIAS_052018.csv`: Demographics data for the general population of Germany; 891 211 persons (rows) x 366 features (columns).\n",
    "- `Udacity_CUSTOMERS_052018.csv`: Demographics data for customers of a mail-order company; 191 652 persons (rows) x 369 features (columns).\n",
    "- `Udacity_MAILOUT_052018_TRAIN.csv`: Demographics data for individuals who were targets of a marketing campaign; 42 982 persons (rows) x 367 (columns).\n",
    "- `Udacity_MAILOUT_052018_TEST.csv`: Demographics data for individuals who were targets of a marketing campaign; 42 833 persons (rows) x 366 (columns).\n",
    "\n",
    "Each row of the demographics files represents a single person, but also includes information outside of individuals, including information about their household, building, and neighborhood. Use the information from the first two files to figure out how customers (\"CUSTOMERS\") are similar to or differ from the general population at large (\"AZDIAS\"), then use your analysis to make predictions on the other two files (\"MAILOUT\"), predicting which recipients are most likely to become a customer for the mail-order company.\n",
    "\n",
    "The \"CUSTOMERS\" file contains three extra columns ('CUSTOMER_GROUP', 'ONLINE_PURCHASE', and 'PRODUCT_GROUP'), which provide broad information about the customers depicted in the file. The original \"MAILOUT\" file included one additional column, \"RESPONSE\", which indicated whether or not each recipient became a customer of the company. For the \"TRAIN\" subset, this column has been retained, but in the \"TEST\" subset it has been removed; it is against that withheld column that your final predictions will be assessed in the Kaggle competition.\n",
    "\n",
    "Otherwise, all of the remaining columns are the same between the three data files. For more information about the columns depicted in the files, you can refer to two Excel spreadsheets provided in the workspace. [One of them](./DIAS Information Levels - Attributes 2017.xlsx) is a top-level list of attributes and descriptions, organized by informational category. [The other](./DIAS Attributes - Values 2017.xlsx) is a detailed mapping of data values for each feature in alphabetical order.\n",
    "\n",
    "In the below cell, we've provided some initial code to load in the first two datasets. Note for all of the `.csv` data files in this project that they're semicolon (`;`) delimited, so an additional argument in the [`read_csv()`](https://pandas.pydata.org/pandas-docs/stable/generated/pandas.read_csv.html) call has been included to read in the data properly. Also, considering the size of the datasets, it may take some time for them to load completely.\n",
    "\n",
    "You'll notice when the data is loaded in that a warning message will immediately pop up. Before you really start digging into the modeling and analysis, you're going to need to perform some cleaning. Take some time to browse the structure of the data and look over the informational spreadsheets to understand the data values. Make some decisions on which features to keep, which features to drop, and if any revisions need to be made on data formats. It'll be a good idea to create a function with pre-processing steps, since you'll need to clean all of the datasets before you work with them."
   ]
  },
  {
   "cell_type": "code",
   "execution_count": 2,
   "metadata": {},
   "outputs": [
    {
     "name": "stderr",
     "output_type": "stream",
     "text": [
      "C:\\Users\\pietr\\anaconda3\\lib\\site-packages\\IPython\\core\\interactiveshell.py:3146: DtypeWarning: Columns (18,19) have mixed types.Specify dtype option on import or set low_memory=False.\n",
      "  has_raised = await self.run_ast_nodes(code_ast.body, cell_name,\n"
     ]
    }
   ],
   "source": [
    "# load in the data\n",
    "azdias_df = pd.read_csv('../../data/Term2/capstone/arvato_data/Udacity_AZDIAS_052018.csv', sep=';')\n",
    "customers_df = pd.read_csv('../../data/Term2/capstone/arvato_data/Udacity_CUSTOMERS_052018.csv', sep=';')\n",
    "\n",
    "attr_df = pd.read_excel('../../data/Term2/capstone/arvato_data/DIAS Information Levels - Attributes 2017.xlsx')\n",
    "values_df = pd.read_excel('../../data/Term2/capstone/arvato_data/DIAS Attributes - Values 2017.xlsx')"
   ]
  },
  {
   "cell_type": "markdown",
   "metadata": {},
   "source": [
    "**Not all variables are described in the XLSX files. At least 50 variables from the main datasets (CSV files) are and what to expect from them.**"
   ]
  },
  {
   "cell_type": "code",
   "execution_count": 3,
   "metadata": {},
   "outputs": [
    {
     "data": {
      "text/plain": [
       "(313, 315, 366, 369)"
      ]
     },
     "execution_count": 3,
     "metadata": {},
     "output_type": "execute_result"
    }
   ],
   "source": [
    "len(attr_df.Attribute.unique()), len(values_df.Attribute.unique()), azdias_df.shape[1], customers_df.shape[1]"
   ]
  },
  {
   "cell_type": "code",
   "execution_count": 4,
   "metadata": {},
   "outputs": [
    {
     "data": {
      "text/plain": [
       "94"
      ]
     },
     "execution_count": 4,
     "metadata": {},
     "output_type": "execute_result"
    }
   ],
   "source": [
    "len(np.setdiff1d(azdias_df.columns, values_df['Attribute'].unique().tolist()))"
   ]
  },
  {
   "cell_type": "markdown",
   "metadata": {},
   "source": [
    "**Several variable names are slightly different in the XLSX files compared to the CSV files. I corrected some of them to match, but 61 columns in the dataset continue to be undescribed.**"
   ]
  },
  {
   "cell_type": "code",
   "execution_count": 5,
   "metadata": {},
   "outputs": [],
   "source": [
    "correct_names=[]\n",
    "for name in values_df['Attribute']:\n",
    "    if bool(re.search(r'RZ', str(name))):\n",
    "        correct_names.append(name[:-3])\n",
    "    else:\n",
    "        correct_names.append(name)\n",
    "values_df['Attribute'] = correct_names\n",
    "values_df.fillna(method='ffill', inplace=True) # complete nans with previous value"
   ]
  },
  {
   "cell_type": "code",
   "execution_count": 6,
   "metadata": {},
   "outputs": [
    {
     "data": {
      "text/plain": [
       "61"
      ]
     },
     "execution_count": 6,
     "metadata": {},
     "output_type": "execute_result"
    }
   ],
   "source": [
    "len(np.setdiff1d(azdias_df.columns, values_df['Attribute'].unique().tolist()))"
   ]
  },
  {
   "cell_type": "markdown",
   "metadata": {},
   "source": [
    "**Using the \"unknown\" definitions from the values dataframe as reference, I verified all values from the CSV files and transformed them into nans when necessary.**"
   ]
  },
  {
   "cell_type": "code",
   "execution_count": 7,
   "metadata": {},
   "outputs": [],
   "source": [
    "unknown_list = [bool(re.search('unknown', str(x))) for x in values_df['Meaning'].tolist()]\n",
    "unknown_df = values_df[unknown_list]"
   ]
  },
  {
   "cell_type": "code",
   "execution_count": 8,
   "metadata": {},
   "outputs": [],
   "source": [
    "unknown_list = [bool(re.search('unknown', str(x))) for x in values_df['Meaning'].tolist()]\n",
    "unknown_df = values_df[unknown_list]\n",
    "def make_unknown_nan(input_df):\n",
    "    '''\n",
    "    Replace values that represent unknown information with nans. \n",
    "    \n",
    "    INPUT\n",
    "    - input_df: dataframe to be fixed.\n",
    "    \n",
    "    OUTPUT\n",
    "    - output_df: dataframe with unknown values replaced with nans.\n",
    "    \n",
    "    '''\n",
    "    \n",
    "    output_df = input_df.copy()\n",
    "    n_corrected = 0 # keep track of corrections\n",
    "    cols_to_parse = unknown_df['Attribute'].values\n",
    "    cols_to_parse = cols_to_parse[np.isin(cols_to_parse, output_df.columns.values)]\n",
    "    \n",
    "    for col in cols_to_parse:\n",
    "        unknown_val = unknown_df[unknown_df['Attribute'] == col]['Value'].values[0]\n",
    "        try:\n",
    "            unknown_val = unknown_val.split(',')\n",
    "        except:\n",
    "            unknown_val = [unknown_val]\n",
    "        for val in unknown_val:\n",
    "            n_unknown = len(output_df.loc[output_df[col] == float(val), col])\n",
    "            if n_unknown > 0:\n",
    "                n_corrected += n_unknown\n",
    "                output_df.loc[output_df[col] == float(val), col] = np.nan\n",
    "    return output_df, n_corrected"
   ]
  },
  {
   "cell_type": "code",
   "execution_count": 9,
   "metadata": {},
   "outputs": [],
   "source": [
    "azdias_clean_df, azdias_n_corrected = make_unknown_nan(azdias_df)\n",
    "customers_clean_df, customers_n_corrected = make_unknown_nan(customers_df)"
   ]
  },
  {
   "cell_type": "code",
   "execution_count": 10,
   "metadata": {},
   "outputs": [
    {
     "name": "stdout",
     "output_type": "stream",
     "text": [
      "3594594 values from the azdias dataframe and 623947 values from the customers dataframe were transformed to nans\n"
     ]
    }
   ],
   "source": [
    "print('{} values from the azdias dataframe and {} values from the customers dataframe were transformed to nans'.format(azdias_n_corrected, customers_n_corrected))"
   ]
  },
  {
   "cell_type": "markdown",
   "metadata": {},
   "source": [
    "### Dealing with null values"
   ]
  },
  {
   "cell_type": "code",
   "execution_count": 11,
   "metadata": {
    "scrolled": true
   },
   "outputs": [],
   "source": [
    "azdias_col_null = azdias_clean_df.isnull().sum(axis=0)/azdias_clean_df.shape[0]\n",
    "azdias_row_null = azdias_clean_df.isnull().sum(axis=1)/azdias_clean_df.shape[1]\n",
    "customers_col_null = customers_clean_df.isnull().sum(axis=0)/customers_clean_df.shape[0]\n",
    "customers_row_null = customers_clean_df.isnull().sum(axis=1)/customers_clean_df.shape[1]"
   ]
  },
  {
   "cell_type": "code",
   "execution_count": 12,
   "metadata": {},
   "outputs": [
    {
     "data": {
      "image/png": "[encoded data removed]",
      "text/plain": [
       "<Figure size 1008x864 with 4 Axes>"
      ]
     },
     "metadata": {
      "needs_background": "light"
     },
     "output_type": "display_data"
    }
   ],
   "source": [
    "bins=np.arange(0, 1, 0.01)\n",
    "plt.figure(figsize = [14, 12])\n",
    "plt.subplot(2, 2, 1) # 2 rows, 2 cols, subplot 1\n",
    "plt.hist(azdias_col_null, bins=bins)\n",
    "plt.title('azdias')\n",
    "plt.ylabel('Number of columns')\n",
    "plt.xlabel('Proportion of null values in a column')\n",
    "plt.subplot(2, 2, 2) #  2 rows, 2 cols, subplot 2\n",
    "plt.hist(azdias_row_null, bins=bins)\n",
    "plt.title('azdias')\n",
    "plt.ylabel('Number of rows')\n",
    "plt.xlabel('Proportion of null values in a row')\n",
    "plt.subplot(2, 2, 3) #  2 rows, 2 cols, subplot 1\n",
    "plt.hist(customers_col_null, bins=bins)\n",
    "plt.title('customers')\n",
    "plt.ylabel('Number of columns')\n",
    "plt.xlabel('Proportion of null values in a column')\n",
    "plt.subplot(2, 2, 4) #  2 rows, 2 cols, subplot 2\n",
    "plt.hist(customers_row_null, bins=bins)\n",
    "plt.title('customers')\n",
    "plt.ylabel('Number of rows')\n",
    "plt.xlabel('Proportion of null values in a row');"
   ]
  },
  {
   "cell_type": "code",
   "execution_count": 13,
   "metadata": {},
   "outputs": [],
   "source": [
    "def custom_preprocess(input_df, row_null_threshold=0.15, col_null_threshold=0.75, extra_drops=False):\n",
    "    '''\n",
    "    Preprocess data of this project:\n",
    "    - Removes non-numeric columns.\n",
    "    - Drops rows and columns above certain null thresholds.\n",
    "    - Impute values using the mode.\n",
    "    - Normalizes data.\n",
    "    \n",
    "    INPUT\n",
    "    - input_df: dataframe to be cleaned.\n",
    "    - row_null_threshold: proportion threshold for rows to be dropped.\n",
    "    - col_null_threshold: proportion threshold for columns to be dropped.\n",
    "    - extra_drops: whether drop or not additional columns (for customers dataset).\n",
    "    \n",
    "    OUTPUT\n",
    "    - output_df: dataframe cleaned.\n",
    "    \n",
    "    '''\n",
    "    \n",
    "    output_df = input_df.copy()\n",
    "    output_df = make_unknown_nan(output_df)[0]\n",
    "    output_df.set_index('LNR', inplace=True)\n",
    "    \n",
    "    if extra_drops:\n",
    "        output_df.drop(columns=['CUSTOMER_GROUP', 'ONLINE_PURCHASE', 'PRODUCT_GROUP'], inplace=True)\n",
    "    \n",
    "    # remove non-numeric columns\n",
    "    output_df = output_df.select_dtypes(exclude='object')\n",
    "    \n",
    "    # remove rows above null threshold\n",
    "    row_null = output_df.isnull().sum(axis=1)/output_df.shape[1]\n",
    "    \n",
    "    rows_above_threshold = row_null[row_null>=row_null_threshold].index.values\n",
    "    output_df.drop(index=rows_above_threshold,inplace=True)\n",
    "    \n",
    "    # remove columns above null threshold\n",
    "    col_null = output_df.isnull().sum(axis=0)/output_df.shape[0]\n",
    "    \n",
    "    cols_above_threshold = col_null[col_null>=col_null_threshold].index.values\n",
    "    output_df.drop(columns=cols_above_threshold,inplace=True)\n",
    "    \n",
    "    # impute null values using the mode\n",
    "    transformer = SimpleImputer(missing_values=np.nan,strategy='most_frequent')\n",
    "    output_df = pd.DataFrame(transformer.fit_transform(output_df), columns=output_df.columns.values, index=output_df.index.values)\n",
    "    \n",
    "    # scale values\n",
    "    scaler = StandardScaler()\n",
    "    output_df = pd.DataFrame(scaler.fit_transform(output_df), columns=output_df.columns.values, index=output_df.index.values)\n",
    "    \n",
    "    return output_df"
   ]
  },
  {
   "cell_type": "code",
   "execution_count": 14,
   "metadata": {},
   "outputs": [],
   "source": [
    "azdias_clean_df = custom_preprocess(azdias_df)\n",
    "customers_clean_df = custom_preprocess(customers_df, extra_drops=True)"
   ]
  },
  {
   "cell_type": "markdown",
   "metadata": {},
   "source": [
    "**No null values:**"
   ]
  },
  {
   "cell_type": "code",
   "execution_count": 15,
   "metadata": {},
   "outputs": [
    {
     "data": {
      "text/plain": [
       "(0, 0)"
      ]
     },
     "execution_count": 15,
     "metadata": {},
     "output_type": "execute_result"
    }
   ],
   "source": [
    "azdias_clean_df.isnull().sum().sum(), customers_clean_df.isnull().sum().sum()"
   ]
  },
  {
   "cell_type": "markdown",
   "metadata": {},
   "source": [
    "**Original dataframe dimensions:**"
   ]
  },
  {
   "cell_type": "code",
   "execution_count": 16,
   "metadata": {},
   "outputs": [
    {
     "data": {
      "text/plain": [
       "((891221, 366), (191652, 369))"
      ]
     },
     "execution_count": 16,
     "metadata": {},
     "output_type": "execute_result"
    }
   ],
   "source": [
    "azdias_df.shape, customers_df.shape"
   ]
  },
  {
   "cell_type": "markdown",
   "metadata": {},
   "source": [
    "**New dataframe dimensions:**"
   ]
  },
  {
   "cell_type": "code",
   "execution_count": 17,
   "metadata": {},
   "outputs": [
    {
     "data": {
      "text/plain": [
       "((737288, 354), (134246, 354))"
      ]
     },
     "execution_count": 17,
     "metadata": {},
     "output_type": "execute_result"
    }
   ],
   "source": [
    "azdias_clean_df.shape, customers_clean_df.shape"
   ]
  },
  {
   "cell_type": "markdown",
   "metadata": {},
   "source": [
    "# Part 1: Customer Segmentation Report\n",
    "\n",
    "The main bulk of your analysis will come in this part of the project. Here, you should use unsupervised learning techniques to describe the relationship between the demographics of the company's existing customers and the general population of Germany. By the end of this part, you should be able to describe parts of the general population that are more likely to be part of the mail-order company's main customer base, and which parts of the general population are less so."
   ]
  },
  {
   "cell_type": "markdown",
   "metadata": {},
   "source": [
    "## PCA\n",
    "\n",
    "**Before clustering data, I need first to reduce data dimensions to increase efficiency of clustering.** "
   ]
  },
  {
   "cell_type": "code",
   "execution_count": 18,
   "metadata": {},
   "outputs": [
    {
     "data": {
      "image/png": "[encoded data removed]",
      "text/plain": [
       "<Figure size 864x576 with 2 Axes>"
      ]
     },
     "metadata": {
      "needs_background": "light"
     },
     "output_type": "display_data"
    }
   ],
   "source": [
    "pca = PCA()\n",
    "azdias_pca = pca.fit_transform(azdias_clean_df)\n",
    "\n",
    "plt.figure(figsize = [12, 8])\n",
    "plt.subplot(1, 2, 1) # 1 row, 2 cols, subplot 1\n",
    "plt.plot(np.cumsum(pca.explained_variance_ratio_))\n",
    "plt.axvline(x=210, color='black')\n",
    "plt.title('azdias')\n",
    "plt.xlabel('Number of principal components')\n",
    "plt.ylabel('Cumulative explained variance')\n",
    "\n",
    "\n",
    "pca = PCA()\n",
    "customers_pca = pca.fit_transform(azdias_clean_df)\n",
    "\n",
    "plt.subplot(1, 2, 2) # 1 row, 2 cols, subplot 2\n",
    "plt.plot(np.cumsum(pca.explained_variance_ratio_))\n",
    "plt.axvline(x=210, color='black')\n",
    "plt.title('customers')\n",
    "plt.xlabel('Number of principal components')\n",
    "plt.ylabel('Cumulative explained variance')\n",
    "\n",
    "plt.show()"
   ]
  },
  {
   "cell_type": "markdown",
   "metadata": {},
   "source": [
    "**These plots suggest that around 210 components the explained variance gain decreases substantially with more components. Thus, I chose that number of principal components to reduce data dimensions.**"
   ]
  },
  {
   "cell_type": "code",
   "execution_count": 19,
   "metadata": {},
   "outputs": [],
   "source": [
    "def reduce_dimensions(input_df, n=210):\n",
    "    '''\n",
    "    Applies PCA on data to reduce their dimensions.\n",
    "    \n",
    "    INPUT\n",
    "    - input_df: data to be reduced.\n",
    "    \n",
    "    OUTPUT\n",
    "    - output_df: reduced data.\n",
    "    \n",
    "    '''\n",
    "    \n",
    "    pca = PCA(n_components=n)\n",
    "    output_df = pd.DataFrame(pca.fit_transform(input_df))\n",
    "    print(pca.explained_variance_ratio_.sum())\n",
    "    \n",
    "    return output_df"
   ]
  },
  {
   "cell_type": "code",
   "execution_count": 20,
   "metadata": {},
   "outputs": [
    {
     "name": "stdout",
     "output_type": "stream",
     "text": [
      "0.9366292889249688\n",
      "0.9310906210766171\n"
     ]
    }
   ],
   "source": [
    "azdias_pca = reduce_dimensions(azdias_clean_df)\n",
    "customers_pca = reduce_dimensions(customers_clean_df)"
   ]
  },
  {
   "cell_type": "markdown",
   "metadata": {},
   "source": [
    "## Clustering\n",
    "\n",
    "**Now that the data is reduced, I apply the KMeans algorithm to cluster the data**."
   ]
  },
  {
   "cell_type": "code",
   "execution_count": 21,
   "metadata": {},
   "outputs": [],
   "source": [
    "def apply_cluster_algorithm(data, k):\n",
    "    \"\"\"\n",
    "    Applies cluster algorithm on data using mean within-cluster distance.\n",
    "    \n",
    "    INPUT\n",
    "    - input_df: reduced data to be clustered.\n",
    "    - k: number of clusters.\n",
    "    \n",
    "    OUTPUT\n",
    "    - within-cluster distances.\n",
    "    \"\"\"\n",
    "    kmeans = KMeans(k)\n",
    "    model = kmeans.fit(data)\n",
    "    \n",
    "    return abs(model.score(data))"
   ]
  },
  {
   "cell_type": "markdown",
   "metadata": {},
   "source": [
    "**I chose 11 as the number of clusters to use. Although greater number of clusters would reduce further within-cluster distance, the rate in which that happens is much lower after 11 clusters.**"
   ]
  },
  {
   "cell_type": "code",
   "execution_count": 22,
   "metadata": {},
   "outputs": [
    {
     "name": "stdout",
     "output_type": "stream",
     "text": [
      "Wall time: 6min 15s\n"
     ]
    }
   ],
   "source": [
    "%%time\n",
    "distances = []\n",
    "centers = np.arange(1, 31)\n",
    "for k in centers:\n",
    "    distances.append(apply_cluster_algorithm(azdias_pca.sample(40000), k))"
   ]
  },
  {
   "cell_type": "code",
   "execution_count": 23,
   "metadata": {},
   "outputs": [
    {
     "data": {
      "image/png": "[encoded data removed]",
      "text/plain": [
       "<Figure size 1008x864 with 2 Axes>"
      ]
     },
     "metadata": {
      "needs_background": "light"
     },
     "output_type": "display_data"
    }
   ],
   "source": [
    "plt.figure(figsize = [14, 12])\n",
    "plt.subplot(2, 1, 1) # 1 row, 2 cols, subplot 1\n",
    "plt.plot(centers, distances, linestyle='-', marker='o')\n",
    "plt.ylabel('Within-cluster distance')\n",
    "plt.xlabel('Number of clusters')\n",
    "plt.title('Elbow method')\n",
    "plt.axvline(x=11, color='black')\n",
    "plt.xticks(np.linspace(1,30,30));\n",
    "\n",
    "plt.subplot(2, 1, 2) # 1 row, 2 cols, subplot 1\n",
    "plt.plot(centers[1:], np.diff(distances), linestyle='-', marker='o')\n",
    "plt.ylabel('Difference of within-cluster distance to previous number of clusters')\n",
    "plt.xlabel('Cluster')\n",
    "plt.title('Gap method')\n",
    "plt.axvline(x=11, color='black')\n",
    "plt.xticks(np.linspace(2,30,29));"
   ]
  },
  {
   "cell_type": "markdown",
   "metadata": {},
   "source": [
    "**The difference between clusters of the general population (azdias) and customers is greater for clusters 1 (customer overrepresentation) and 4 (customer underrepresentation).**"
   ]
  },
  {
   "cell_type": "code",
   "execution_count": 24,
   "metadata": {},
   "outputs": [
    {
     "name": "stdout",
     "output_type": "stream",
     "text": [
      "Wall time: 3min 34s\n"
     ]
    }
   ],
   "source": [
    "%%time\n",
    "kmeans = KMeans(n_clusters=11)\n",
    "\n",
    "azdias_pred = kmeans.fit_predict(azdias_pca)\n",
    "customers_pred = kmeans.fit_predict(customers_pca)"
   ]
  },
  {
   "cell_type": "code",
   "execution_count": 25,
   "metadata": {},
   "outputs": [],
   "source": [
    "cluster_dist = pd.DataFrame({'cluster':np.unique(azdias_pred, return_counts=True)[0],\n",
    "                             'azdias':np.unique(azdias_pred, return_counts=True)[1]/len(azdias_pred),\n",
    "                             'customers':np.unique(customers_pred, return_counts=True)[1]/len(customers_pred)})\n",
    "cluster_dist['diff'] = cluster_dist['customers'] - cluster_dist['azdias']"
   ]
  },
  {
   "cell_type": "code",
   "execution_count": 26,
   "metadata": {},
   "outputs": [
    {
     "data": {
      "image/png": "[encoded data removed]",
      "text/plain": [
       "<Figure size 1008x576 with 1 Axes>"
      ]
     },
     "metadata": {
      "needs_background": "light"
     },
     "output_type": "display_data"
    }
   ],
   "source": [
    "fig, ax = plt.subplots(figsize = [14, 8])\n",
    "cluster_dist.plot.bar(x = 'cluster', y = ['azdias', 'customers', 'diff'], ax = ax, color=['wheat', 'salmon', 'skyblue'])\n",
    "plt.legend(labels=['General population', 'Customers', 'Difference'])\n",
    "plt.xlabel('Cluster')\n",
    "plt.ylabel('Proportion')\n",
    "plt.xticks(rotation=0);"
   ]
  },
  {
   "cell_type": "markdown",
   "metadata": {},
   "source": [
    "# Part 2: Supervised Learning Model\n",
    "\n",
    "Now that you've found which parts of the population are more likely to be customers of the mail-order company, it's time to build a prediction model. Each of the rows in the \"MAILOUT\" data files represents an individual that was targeted for a mailout campaign. Ideally, we should be able to use the demographic information from each individual to decide whether or not it will be worth it to include that person in the campaign.\n",
    "\n",
    "The \"MAILOUT\" data has been split into two approximately equal parts, each with almost 43 000 data rows. In this part, you can verify your model with the \"TRAIN\" partition, which includes a column, \"RESPONSE\", that states whether or not a person became a customer of the company following the campaign. In the next part, you'll need to create predictions on the \"TEST\" partition, where the \"RESPONSE\" column has been withheld."
   ]
  },
  {
   "cell_type": "code",
   "execution_count": 27,
   "metadata": {},
   "outputs": [
    {
     "name": "stderr",
     "output_type": "stream",
     "text": [
      "C:\\Users\\pietr\\anaconda3\\lib\\site-packages\\IPython\\core\\interactiveshell.py:3146: DtypeWarning: Columns (18,19) have mixed types.Specify dtype option on import or set low_memory=False.\n",
      "  has_raised = await self.run_ast_nodes(code_ast.body, cell_name,\n"
     ]
    }
   ],
   "source": [
    "train_df = pd.read_csv('../../data/Term2/capstone/arvato_data/Udacity_MAILOUT_052018_TRAIN.csv', sep=';')\n",
    "\n",
    "train_clean_df = custom_preprocess(train_df)\n",
    "\n",
    "# because response was normalized during the preprocess, I converted to its original state\n",
    "train_clean_df['RESPONSE'] = np.where(train_clean_df['RESPONSE']>0, 1, 0)\n",
    "\n",
    "X = train_clean_df.drop(columns=['RESPONSE'])\n",
    "y = train_clean_df['RESPONSE']"
   ]
  },
  {
   "cell_type": "markdown",
   "metadata": {},
   "source": [
    "**There is a huge imbalance in the response variable: only a few people became customers following the campaign.**"
   ]
  },
  {
   "cell_type": "code",
   "execution_count": 28,
   "metadata": {},
   "outputs": [
    {
     "data": {
      "image/png": "[encoded data removed]",
      "text/plain": [
       "<Figure size 576x432 with 1 Axes>"
      ]
     },
     "metadata": {
      "needs_background": "light"
     },
     "output_type": "display_data"
    }
   ],
   "source": [
    "labels, counts = np.unique(y, return_counts=True)\n",
    "labels = np.where(labels==0, 'No', 'Yes')\n",
    "\n",
    "plt.figure(figsize = [8, 6])\n",
    "plt.bar(x=labels, height=counts)\n",
    "plt.xlabel('Client became customer after campaign')\n",
    "plt.ylabel('Count');"
   ]
  },
  {
   "cell_type": "markdown",
   "metadata": {},
   "source": [
    "## Model evaluation and validation\n",
    "\n",
    "**Taking into consideration the imbalance in the response variable, I used GridSearchCV which applies stratified-K-fold to train and test the data. Also because of this imbalance, ROC/AUC is the most appropriate measure to evaluate the performance of the classifiers.**"
   ]
  },
  {
   "cell_type": "code",
   "execution_count": 29,
   "metadata": {},
   "outputs": [],
   "source": [
    "def fit_clf(clf, param_grid, X=X, y=y):\n",
    "    \"\"\"\n",
    "    Fit a classifier and computes its ROC/AUC.\n",
    "    \n",
    "    INPUT:\n",
    "    - classifier: algorithm to be used \n",
    "    - param_grid: parameters of the classifier used\n",
    "    - X: data frame with predictor variables\n",
    "    - y: response variable\n",
    "            \n",
    "    OUTPUT:\n",
    "    - combination of parameters with the greatest ROC/AUC score\n",
    "    - ROC/AUC score of the best parameter combination (if different parameters used)\n",
    "    \n",
    "    \"\"\"\n",
    "    \n",
    "    # using StratifiedKFold\n",
    "    \n",
    "    grid = GridSearchCV(estimator=clf, param_grid=param_grid, scoring='roc_auc', cv=5)\n",
    "    grid.fit(X, y)\n",
    "    print(grid.best_score_)\n",
    "    \n",
    "    return grid.best_estimator_, grid.best_score_"
   ]
  },
  {
   "cell_type": "markdown",
   "metadata": {},
   "source": [
    "**Logistic regression**"
   ]
  },
  {
   "cell_type": "code",
   "execution_count": 30,
   "metadata": {},
   "outputs": [
    {
     "name": "stderr",
     "output_type": "stream",
     "text": [
      "C:\\Users\\pietr\\anaconda3\\lib\\site-packages\\sklearn\\linear_model\\_logistic.py:762: ConvergenceWarning: lbfgs failed to converge (status=1):\n",
      "STOP: TOTAL NO. of ITERATIONS REACHED LIMIT.\n",
      "\n",
      "Increase the number of iterations (max_iter) or scale the data as shown in:\n",
      "    https://scikit-learn.org/stable/modules/preprocessing.html\n",
      "Please also refer to the documentation for alternative solver options:\n",
      "    https://scikit-learn.org/stable/modules/linear_model.html#logistic-regression\n",
      "  n_iter_i = _check_optimize_result(\n",
      "C:\\Users\\pietr\\anaconda3\\lib\\site-packages\\sklearn\\linear_model\\_logistic.py:762: ConvergenceWarning: lbfgs failed to converge (status=1):\n",
      "STOP: TOTAL NO. of ITERATIONS REACHED LIMIT.\n",
      "\n",
      "Increase the number of iterations (max_iter) or scale the data as shown in:\n",
      "    https://scikit-learn.org/stable/modules/preprocessing.html\n",
      "Please also refer to the documentation for alternative solver options:\n",
      "    https://scikit-learn.org/stable/modules/linear_model.html#logistic-regression\n",
      "  n_iter_i = _check_optimize_result(\n",
      "C:\\Users\\pietr\\anaconda3\\lib\\site-packages\\sklearn\\linear_model\\_logistic.py:762: ConvergenceWarning: lbfgs failed to converge (status=1):\n",
      "STOP: TOTAL NO. of ITERATIONS REACHED LIMIT.\n",
      "\n",
      "Increase the number of iterations (max_iter) or scale the data as shown in:\n",
      "    https://scikit-learn.org/stable/modules/preprocessing.html\n",
      "Please also refer to the documentation for alternative solver options:\n",
      "    https://scikit-learn.org/stable/modules/linear_model.html#logistic-regression\n",
      "  n_iter_i = _check_optimize_result(\n",
      "C:\\Users\\pietr\\anaconda3\\lib\\site-packages\\sklearn\\linear_model\\_logistic.py:762: ConvergenceWarning: lbfgs failed to converge (status=1):\n",
      "STOP: TOTAL NO. of ITERATIONS REACHED LIMIT.\n",
      "\n",
      "Increase the number of iterations (max_iter) or scale the data as shown in:\n",
      "    https://scikit-learn.org/stable/modules/preprocessing.html\n",
      "Please also refer to the documentation for alternative solver options:\n",
      "    https://scikit-learn.org/stable/modules/linear_model.html#logistic-regression\n",
      "  n_iter_i = _check_optimize_result(\n",
      "C:\\Users\\pietr\\anaconda3\\lib\\site-packages\\sklearn\\linear_model\\_logistic.py:762: ConvergenceWarning: lbfgs failed to converge (status=1):\n",
      "STOP: TOTAL NO. of ITERATIONS REACHED LIMIT.\n",
      "\n",
      "Increase the number of iterations (max_iter) or scale the data as shown in:\n",
      "    https://scikit-learn.org/stable/modules/preprocessing.html\n",
      "Please also refer to the documentation for alternative solver options:\n",
      "    https://scikit-learn.org/stable/modules/linear_model.html#logistic-regression\n",
      "  n_iter_i = _check_optimize_result(\n"
     ]
    },
    {
     "name": "stdout",
     "output_type": "stream",
     "text": [
      "0.6749092590810871\n"
     ]
    },
    {
     "name": "stderr",
     "output_type": "stream",
     "text": [
      "C:\\Users\\pietr\\anaconda3\\lib\\site-packages\\sklearn\\linear_model\\_logistic.py:762: ConvergenceWarning: lbfgs failed to converge (status=1):\n",
      "STOP: TOTAL NO. of ITERATIONS REACHED LIMIT.\n",
      "\n",
      "Increase the number of iterations (max_iter) or scale the data as shown in:\n",
      "    https://scikit-learn.org/stable/modules/preprocessing.html\n",
      "Please also refer to the documentation for alternative solver options:\n",
      "    https://scikit-learn.org/stable/modules/linear_model.html#logistic-regression\n",
      "  n_iter_i = _check_optimize_result(\n"
     ]
    }
   ],
   "source": [
    "clf = LogisticRegression()\n",
    "estimator, score = fit_clf(clf, {})"
   ]
  },
  {
   "cell_type": "markdown",
   "metadata": {},
   "source": [
    "**Random forest classifier**"
   ]
  },
  {
   "cell_type": "code",
   "execution_count": 31,
   "metadata": {},
   "outputs": [
    {
     "name": "stdout",
     "output_type": "stream",
     "text": [
      "0.6166169361759973\n"
     ]
    }
   ],
   "source": [
    "clf = RandomForestClassifier()\n",
    "estimator, score = fit_clf(clf, {})"
   ]
  },
  {
   "cell_type": "markdown",
   "metadata": {},
   "source": [
    "**Gradient boosting classifier**"
   ]
  },
  {
   "cell_type": "code",
   "execution_count": 32,
   "metadata": {},
   "outputs": [
    {
     "name": "stdout",
     "output_type": "stream",
     "text": [
      "0.7663379686776048\n"
     ]
    }
   ],
   "source": [
    "clf = GradientBoostingClassifier()\n",
    "estimator, score = fit_clf(clf, {})"
   ]
  },
  {
   "cell_type": "markdown",
   "metadata": {},
   "source": [
    "## Tuning the selected algorithm\n",
    "\n",
    "**Gradient boosting classifier had the best score on its default parameters than the other two algorithms used, so I use it from here one, tweaking some of its parameters.**"
   ]
  },
  {
   "cell_type": "code",
   "execution_count": 33,
   "metadata": {},
   "outputs": [
    {
     "name": "stdout",
     "output_type": "stream",
     "text": [
      "0.7679723269957239\n",
      "Wall time: 16min 5s\n"
     ]
    }
   ],
   "source": [
    "%%time\n",
    "clf = GradientBoostingClassifier()\n",
    "\n",
    "params = {'min_samples_leaf': [1, 2],\n",
    "          'n_estimators': [100, 150]} \n",
    "\n",
    "estimator, score = fit_clf(clf, params)\n",
    "best_estimator = estimator"
   ]
  },
  {
   "cell_type": "code",
   "execution_count": 40,
   "metadata": {},
   "outputs": [
    {
     "data": {
      "text/plain": [
       "GradientBoostingClassifier(n_estimators=150)"
      ]
     },
     "execution_count": 40,
     "metadata": {},
     "output_type": "execute_result"
    }
   ],
   "source": [
    "best_estimator"
   ]
  },
  {
   "cell_type": "markdown",
   "metadata": {},
   "source": [
    "# Part 3: Kaggle Competition\n",
    "\n",
    "Now that you've created a model to predict which individuals are most likely to respond to a mailout campaign, it's time to test that model in competition through Kaggle. If you click on the link [here](http://www.kaggle.com/t/21e6d45d4c574c7fa2d868f0e8c83140), you'll be taken to the competition page where, if you have a Kaggle account, you can enter.\n",
    "\n",
    "Your entry to the competition should be a CSV file with two columns. The first column should be a copy of \"LNR\", which acts as an ID number for each individual in the \"TEST\" partition. The second column, \"RESPONSE\", should be some measure of how likely each individual became a customer – this might not be a straightforward probability. As you should have found in Part 2, there is a large output class imbalance, where most individuals did not respond to the mailout. Thus, predicting individual classes and using accuracy does not seem to be an appropriate performance evaluation method. Instead, the competition will be using AUC to evaluate performance. The exact values of the \"RESPONSE\" column do not matter as much: only that the higher values try to capture as many of the actual customers as possible, early in the ROC curve sweep."
   ]
  },
  {
   "cell_type": "code",
   "execution_count": 34,
   "metadata": {},
   "outputs": [
    {
     "name": "stderr",
     "output_type": "stream",
     "text": [
      "C:\\Users\\pietr\\anaconda3\\lib\\site-packages\\IPython\\core\\interactiveshell.py:3146: DtypeWarning: Columns (18,19) have mixed types.Specify dtype option on import or set low_memory=False.\n",
      "  has_raised = await self.run_ast_nodes(code_ast.body, cell_name,\n"
     ]
    }
   ],
   "source": [
    "test_df = pd.read_csv('../../data/Term2/capstone/arvato_data/Udacity_MAILOUT_052018_TEST.csv', sep=';')"
   ]
  },
  {
   "cell_type": "code",
   "execution_count": 35,
   "metadata": {},
   "outputs": [],
   "source": [
    "def custom_preprocess_mod(input_df, col_null_threshold=0.75, extra_drops=False):\n",
    "    '''\n",
    "    Modified preprocess data for test data only. It does not drop rows.\n",
    "    - Removes non-numeric columns.\n",
    "    - Drops columns above certain null thresholds.\n",
    "    - Impute values using the mode.\n",
    "    - Normalizes data.\n",
    "    \n",
    "    INPUT\n",
    "    - input_df: dataframe to be cleaned.\n",
    "    - col_null_threshold: proportion threshold for columns to be dropped.\n",
    "    - extra_drops: whether drop or not additional columns (for customers dataset).\n",
    "    \n",
    "    OUTPUT\n",
    "    - output_df: dataframe cleaned.\n",
    "    \n",
    "    '''\n",
    "    \n",
    "    output_df = input_df.copy()\n",
    "    output_df = make_unknown_nan(output_df)[0]\n",
    "    output_df.set_index('LNR', inplace=True)\n",
    "    \n",
    "    if extra_drops:\n",
    "        output_df.drop(columns=['CUSTOMER_GROUP', 'ONLINE_PURCHASE', 'PRODUCT_GROUP'], inplace=True)\n",
    "    \n",
    "    # remove non-numeric columns\n",
    "    output_df = output_df.select_dtypes(exclude='object')\n",
    "    \n",
    "    # remove columns above null threshold\n",
    "    col_null = output_df.isnull().sum(axis=0)/output_df.shape[0]\n",
    "    \n",
    "    cols_above_threshold = col_null[col_null>=col_null_threshold].index.values\n",
    "    output_df.drop(columns=cols_above_threshold,inplace=True)\n",
    "    \n",
    "    # impute null values using the mode\n",
    "    transformer = SimpleImputer(missing_values=np.nan,strategy='most_frequent')\n",
    "    output_df = pd.DataFrame(transformer.fit_transform(output_df), columns=output_df.columns.values, index=output_df.index.values)\n",
    "    \n",
    "    # scale values\n",
    "    scaler = StandardScaler()\n",
    "    output_df = pd.DataFrame(scaler.fit_transform(output_df), columns=output_df.columns.values, index=output_df.index.values)\n",
    "    \n",
    "    return output_df"
   ]
  },
  {
   "cell_type": "code",
   "execution_count": 36,
   "metadata": {},
   "outputs": [],
   "source": [
    "test_clean_df = custom_preprocess_mod(test_df)"
   ]
  },
  {
   "cell_type": "markdown",
   "metadata": {},
   "source": [
    "## Predicting test data"
   ]
  },
  {
   "cell_type": "code",
   "execution_count": 37,
   "metadata": {},
   "outputs": [],
   "source": [
    "preds = best_estimator.predict_proba(test_clean_df)[:, 1]"
   ]
  },
  {
   "cell_type": "code",
   "execution_count": 38,
   "metadata": {},
   "outputs": [],
   "source": [
    "kaggle = pd.DataFrame({'LNR':test_clean_df.index.values, 'RESPONSE':preds}) "
   ]
  },
  {
   "cell_type": "code",
   "execution_count": 39,
   "metadata": {},
   "outputs": [
    {
     "data": {
      "text/html": [
       "<div>\n",
       "<style scoped>\n",
       "    .dataframe tbody tr th:only-of-type {\n",
       "        vertical-align: middle;\n",
       "    }\n",
       "\n",
       "    .dataframe tbody tr th {\n",
       "        vertical-align: top;\n",
       "    }\n",
       "\n",
       "    .dataframe thead th {\n",
       "        text-align: right;\n",
       "    }\n",
       "</style>\n",
       "<table border=\"1\" class=\"dataframe\">\n",
       "  <thead>\n",
       "    <tr style=\"text-align: right;\">\n",
       "      <th></th>\n",
       "      <th>LNR</th>\n",
       "      <th>RESPONSE</th>\n",
       "    </tr>\n",
       "  </thead>\n",
       "  <tbody>\n",
       "    <tr>\n",
       "      <th>0</th>\n",
       "      <td>1754</td>\n",
       "      <td>0.049912</td>\n",
       "    </tr>\n",
       "    <tr>\n",
       "      <th>1</th>\n",
       "      <td>1770</td>\n",
       "      <td>0.017130</td>\n",
       "    </tr>\n",
       "    <tr>\n",
       "      <th>2</th>\n",
       "      <td>1465</td>\n",
       "      <td>0.031508</td>\n",
       "    </tr>\n",
       "    <tr>\n",
       "      <th>3</th>\n",
       "      <td>1470</td>\n",
       "      <td>0.002488</td>\n",
       "    </tr>\n",
       "    <tr>\n",
       "      <th>4</th>\n",
       "      <td>1478</td>\n",
       "      <td>0.034014</td>\n",
       "    </tr>\n",
       "    <tr>\n",
       "      <th>...</th>\n",
       "      <td>...</td>\n",
       "      <td>...</td>\n",
       "    </tr>\n",
       "    <tr>\n",
       "      <th>42828</th>\n",
       "      <td>67615</td>\n",
       "      <td>0.008226</td>\n",
       "    </tr>\n",
       "    <tr>\n",
       "      <th>42829</th>\n",
       "      <td>67938</td>\n",
       "      <td>0.010316</td>\n",
       "    </tr>\n",
       "    <tr>\n",
       "      <th>42830</th>\n",
       "      <td>67942</td>\n",
       "      <td>0.013050</td>\n",
       "    </tr>\n",
       "    <tr>\n",
       "      <th>42831</th>\n",
       "      <td>67949</td>\n",
       "      <td>0.019225</td>\n",
       "    </tr>\n",
       "    <tr>\n",
       "      <th>42832</th>\n",
       "      <td>68898</td>\n",
       "      <td>0.027850</td>\n",
       "    </tr>\n",
       "  </tbody>\n",
       "</table>\n",
       "<p>42833 rows × 2 columns</p>\n",
       "</div>"
      ],
      "text/plain": [
       "         LNR  RESPONSE\n",
       "0       1754  0.049912\n",
       "1       1770  0.017130\n",
       "2       1465  0.031508\n",
       "3       1470  0.002488\n",
       "4       1478  0.034014\n",
       "...      ...       ...\n",
       "42828  67615  0.008226\n",
       "42829  67938  0.010316\n",
       "42830  67942  0.013050\n",
       "42831  67949  0.019225\n",
       "42832  68898  0.027850\n",
       "\n",
       "[42833 rows x 2 columns]"
      ]
     },
     "execution_count": 39,
     "metadata": {},
     "output_type": "execute_result"
    }
   ],
   "source": [
    "kaggle"
   ]
  }
 ],
 "metadata": {
  "kernelspec": {
   "display_name": "Python 3",
   "language": "python",
   "name": "python3"
  },
  "language_info": {
   "codemirror_mode": {
    "name": "ipython",
    "version": 3
   },
   "file_extension": ".py",
   "mimetype": "text/x-python",
   "name": "python",
   "nbconvert_exporter": "python",
   "pygments_lexer": "ipython3",
   "version": "3.8.5"
  }
 },
 "nbformat": 4,
 "nbformat_minor": 2
}
